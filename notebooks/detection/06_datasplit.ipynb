{
 "cells": [
  {
   "cell_type": "markdown",
   "id": "2194dcc7-94ea-4a29-b170-b74395c8fd1b",
   "metadata": {},
   "source": [
    "## Data splits ##"
   ]
  },
  {
   "cell_type": "code",
   "execution_count": 1,
   "id": "f5992454-89c2-43f9-854b-6a252afb6607",
   "metadata": {},
   "outputs": [
    {
     "name": "stdout",
     "output_type": "stream",
     "text": [
      "Package version: v0.0.1\n",
      "Python version:  3.12.3 (main, Jun 18 2025, 17:59:45) [GCC 13.3.0]\n"
     ]
    }
   ],
   "source": [
    "import os\n",
    "import sys\n",
    "import glob\n",
    "import logging\n",
    "import json\n",
    "import numpy as np\n",
    "import pandas as pd\n",
    "from PIL import Image\n",
    "from pathlib import Path\n",
    "from matplotlib import pyplot as plt\n",
    "from matplotlib.patches import Rectangle\n",
    "import cv2\n",
    "\n",
    "import albumentations as alb\n",
    "\n",
    "logger = logging.getLogger(__name__)\n",
    "logger.setLevel(logging.INFO)\n",
    "\n",
    "%load_ext autoreload\n",
    "%autoreload 2\n",
    "import computervision\n",
    "from computervision.dentex import Dentex\n",
    "from computervision.imageproc import ImageData\n",
    "\n",
    "# Print version info\n",
    "print(f'Package version: {computervision.__version__}')\n",
    "print(f'Python version:  {sys.version}')"
   ]
  },
  {
   "cell_type": "code",
   "execution_count": 2,
   "id": "173b5ef5-20ef-49b4-ac33-7112b2b2d724",
   "metadata": {},
   "outputs": [
    {
     "name": "stdout",
     "output_type": "stream",
     "text": [
      "data_dir: /app/data\n",
      "Make sure to run the first notebook which downloads the data.\n",
      "Found 634 images in /app/data/dentex/cropped.\n"
     ]
    }
   ],
   "source": [
    "data_dir = os.path.join(os.environ.get('HOME'), 'data')\n",
    "print(f'data_dir: {data_dir}')\n",
    "\n",
    "# Directory to store the data\n",
    "dataset_dir = os.path.join(data_dir, 'dentex')\n",
    "\n",
    "# After extraction from the .tar.gz archive, the images should be on the local fs (see the first notebook)\n",
    "xrays_dir = os.path.join(dataset_dir, 'cropped')\n",
    "\n",
    "# Let's make sure that we have the expected number of images available\n",
    "expected_images = 634\n",
    "file_list = glob.glob(os.path.join(xrays_dir, '*.png'))\n",
    "print('Make sure to run the first notebook which downloads the data.')\n",
    "print(f'Found {len(file_list)} images in {xrays_dir}.')\n",
    "\n",
    "# We want to be sure that the number of images is correct before we continue\n",
    "assert expected_images == len(file_list), \\\n",
    "    f'WARNING: expected images ({expected_images}) != images on file system ({len(file_list)})'"
   ]
  },
  {
   "cell_type": "markdown",
   "id": "720fd49e-7d86-4205-9518-5145382774da",
   "metadata": {},
   "source": [
    "## Load the annotations ##"
   ]
  },
  {
   "cell_type": "code",
   "execution_count": 3,
   "id": "37daa61b-f7de-446b-bf03-51c58ec37236",
   "metadata": {},
   "outputs": [
    {
     "data": {
      "text/html": [
       "<div>\n",
       "<style scoped>\n",
       "    .dataframe tbody tr th:only-of-type {\n",
       "        vertical-align: middle;\n",
       "    }\n",
       "\n",
       "    .dataframe tbody tr th {\n",
       "        vertical-align: top;\n",
       "    }\n",
       "\n",
       "    .dataframe thead th {\n",
       "        text-align: right;\n",
       "    }\n",
       "</style>\n",
       "<table border=\"1\" class=\"dataframe\">\n",
       "  <thead>\n",
       "    <tr style=\"text-align: right;\">\n",
       "      <th></th>\n",
       "      <th>bbox</th>\n",
       "      <th>segmentation</th>\n",
       "      <th>height</th>\n",
       "      <th>width</th>\n",
       "      <th>file_name</th>\n",
       "      <th>quadrant</th>\n",
       "      <th>pos</th>\n",
       "      <th>fdi</th>\n",
       "      <th>ada</th>\n",
       "    </tr>\n",
       "  </thead>\n",
       "  <tbody>\n",
       "    <tr>\n",
       "      <th>0</th>\n",
       "      <td>[778, 102, 103, 376]</td>\n",
       "      <td>[[869, 478, 881, 102, 790, 113, 778, 469]]</td>\n",
       "      <td>847</td>\n",
       "      <td>1770</td>\n",
       "      <td>train_0_cropped.png</td>\n",
       "      <td>1</td>\n",
       "      <td>1</td>\n",
       "      <td>11</td>\n",
       "      <td>8</td>\n",
       "    </tr>\n",
       "    <tr>\n",
       "      <th>1</th>\n",
       "      <td>[705, 107, 85, 377]</td>\n",
       "      <td>[[778, 484, 790, 110, 719, 107, 716, 299, 731,...</td>\n",
       "      <td>847</td>\n",
       "      <td>1770</td>\n",
       "      <td>train_0_cropped.png</td>\n",
       "      <td>1</td>\n",
       "      <td>2</td>\n",
       "      <td>12</td>\n",
       "      <td>7</td>\n",
       "    </tr>\n",
       "    <tr>\n",
       "      <th>2</th>\n",
       "      <td>[643, 69, 85, 368]</td>\n",
       "      <td>[[699, 437, 728, 357, 719, 72, 646, 69, 643, 4...</td>\n",
       "      <td>847</td>\n",
       "      <td>1770</td>\n",
       "      <td>train_0_cropped.png</td>\n",
       "      <td>1</td>\n",
       "      <td>3</td>\n",
       "      <td>13</td>\n",
       "      <td>6</td>\n",
       "    </tr>\n",
       "    <tr>\n",
       "      <th>3</th>\n",
       "      <td>[569, 31, 115, 403]</td>\n",
       "      <td>[[634, 434, 684, 378, 655, 31, 575, 40, 569, 3...</td>\n",
       "      <td>847</td>\n",
       "      <td>1770</td>\n",
       "      <td>train_0_cropped.png</td>\n",
       "      <td>1</td>\n",
       "      <td>4</td>\n",
       "      <td>14</td>\n",
       "      <td>5</td>\n",
       "    </tr>\n",
       "    <tr>\n",
       "      <th>4</th>\n",
       "      <td>[481, 10, 100, 406]</td>\n",
       "      <td>[[549, 416, 581, 378, 578, 10, 493, 31, 490, 2...</td>\n",
       "      <td>847</td>\n",
       "      <td>1770</td>\n",
       "      <td>train_0_cropped.png</td>\n",
       "      <td>1</td>\n",
       "      <td>5</td>\n",
       "      <td>15</td>\n",
       "      <td>4</td>\n",
       "    </tr>\n",
       "  </tbody>\n",
       "</table>\n",
       "</div>"
      ],
      "text/plain": [
       "                   bbox                                       segmentation  \\\n",
       "0  [778, 102, 103, 376]         [[869, 478, 881, 102, 790, 113, 778, 469]]   \n",
       "1   [705, 107, 85, 377]  [[778, 484, 790, 110, 719, 107, 716, 299, 731,...   \n",
       "2    [643, 69, 85, 368]  [[699, 437, 728, 357, 719, 72, 646, 69, 643, 4...   \n",
       "3   [569, 31, 115, 403]  [[634, 434, 684, 378, 655, 31, 575, 40, 569, 3...   \n",
       "4   [481, 10, 100, 406]  [[549, 416, 581, 378, 578, 10, 493, 31, 490, 2...   \n",
       "\n",
       "   height  width            file_name  quadrant pos  fdi  ada  \n",
       "0     847   1770  train_0_cropped.png         1   1   11    8  \n",
       "1     847   1770  train_0_cropped.png         1   2   12    7  \n",
       "2     847   1770  train_0_cropped.png         1   3   13    6  \n",
       "3     847   1770  train_0_cropped.png         1   4   14    5  \n",
       "4     847   1770  train_0_cropped.png         1   5   15    4  "
      ]
     },
     "metadata": {},
     "output_type": "display_data"
    }
   ],
   "source": [
    "parquet_file_name = 'train_quadrant_enumeration_cropped.parquet'\n",
    "parquet_file = os.path.join(xrays_dir, parquet_file_name)\n",
    "try:\n",
    "    df = pd.read_parquet(parquet_file)\n",
    "except Exception as e:\n",
    "    print(f'ERROR: Could not load file: \\n {e}')\n",
    "    print('Make sure to run the first notebook which downloads the data.')\n",
    "display(df.head())"
   ]
  }
 ],
 "metadata": {
  "kernelspec": {
   "display_name": "Python 3 (ipykernel)",
   "language": "python",
   "name": "python3"
  },
  "language_info": {
   "codemirror_mode": {
    "name": "ipython",
    "version": 3
   },
   "file_extension": ".py",
   "mimetype": "text/x-python",
   "name": "python",
   "nbconvert_exporter": "python",
   "pygments_lexer": "ipython3",
   "version": "3.12.3"
  }
 },
 "nbformat": 4,
 "nbformat_minor": 5
}
