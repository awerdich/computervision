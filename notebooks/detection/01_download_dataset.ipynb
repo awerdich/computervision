{
 "cells": [
  {
   "cell_type": "code",
   "execution_count": 15,
   "id": "7ba9c081-275b-4583-aec3-923f9be2c085",
   "metadata": {},
   "outputs": [
    {
     "name": "stdout",
     "output_type": "stream",
     "text": [
      "The autoreload extension is already loaded. To reload it, use:\n",
      "  %reload_ext autoreload\n",
      "Package version: v0.0.1\n",
      "Python version:  3.12.3 (main, Jun 18 2025, 17:59:45) [GCC 13.3.0]\n"
     ]
    }
   ],
   "source": [
    "import os\n",
    "import sys\n",
    "import glob\n",
    "import logging\n",
    "import json\n",
    "import numpy as np\n",
    "import pandas as pd\n",
    "from pathlib import Path\n",
    "from matplotlib import pyplot as plt\n",
    "\n",
    "logger = logging.getLogger(__name__)\n",
    "\n",
    "%load_ext autoreload\n",
    "%autoreload 2\n",
    "import computervision\n",
    "from computervision.dentex import Dentex\n",
    "\n",
    "# Print version info\n",
    "print(f'Package version: {computervision.__version__}')\n",
    "print(f'Python version:  {sys.version}')"
   ]
  },
  {
   "cell_type": "code",
   "execution_count": 7,
   "id": "173b5ef5-20ef-49b4-ac33-7112b2b2d724",
   "metadata": {},
   "outputs": [],
   "source": [
    "data_dir = os.path.join(os.environ.get('HOME'), 'data')\n",
    "\n",
    "# Directory to store the data\n",
    "dataset_dir = os.path.join(data_dir, 'dentex')\n",
    "Path(dataset_dir).mkdir(parents=True, exist_ok=True)"
   ]
  },
  {
   "cell_type": "markdown",
   "id": "720fd49e-7d86-4205-9518-5145382774da",
   "metadata": {},
   "source": [
    "## Download the Dentex data set ##"
   ]
  },
  {
   "cell_type": "code",
   "execution_count": 9,
   "id": "37daa61b-f7de-446b-bf03-51c58ec37236",
   "metadata": {},
   "outputs": [
    {
     "name": "stdout",
     "output_type": "stream",
     "text": [
      "Location of the data set for manual download: \n",
      " https://dsets.s3.amazonaws.com/dentex/dentex-quadrant-enumeration.tar.gz\n"
     ]
    },
    {
     "name": "stderr",
     "output_type": "stream",
     "text": [
      "dentex-quadrant-enumeration.tar.gz: 1.72GB [00:50, 33.7MB/s]                               \n"
     ]
    },
    {
     "name": "stdout",
     "output_type": "stream",
     "text": [
      "Extracting from .gz archive.\n"
     ]
    }
   ],
   "source": [
    "url = 'https://dsets.s3.amazonaws.com/dentex/dentex-quadrant-enumeration.tar.gz'\n",
    "# The Dentex class in src/computervision/dentex.py contains \n",
    "# short methods for working with the dentex data set\n",
    "url = os.environ.get('DT_URL')\n",
    "print(f'Location of the data set for manual download: \\n {url}')\n",
    "tar_file = Dentex().download(path=dataset_dir, url=url)"
   ]
  },
  {
   "cell_type": "code",
   "execution_count": 13,
   "id": "d6db8de3-8f20-4b8c-8432-517e824a3bd8",
   "metadata": {},
   "outputs": [],
   "source": [
    "# After extraction from the .tar.gz archive, the images should be on the local fs\n",
    "xrays_dir = os.path.join(dataset_dir, 'quadrant_enumeration/xrays')\n",
    "# Let's make sure that we have the expected number of images available\n",
    "expected_images = 634\n",
    "file_list = glob.glob(os.path.join(xrays_dir, '*.png'))\n",
    "# We want to be sure that the number of images is correct before we continue\n",
    "assert expected_images == len(file_list), \\\n",
    "    f'WARNING: expected images ({expected_images}) != images on file system ({len(file_list)})' "
   ]
  },
  {
   "cell_type": "markdown",
   "id": "252c69b2-8aa5-4f77-a6d0-af074f15cb5b",
   "metadata": {},
   "source": [
    "## Load annotations ##"
   ]
  },
  {
   "cell_type": "code",
   "execution_count": 22,
   "id": "437d86f0-c83a-407f-932b-4865c7fbf1ed",
   "metadata": {},
   "outputs": [
    {
     "name": "stdout",
     "output_type": "stream",
     "text": [
      "dict_keys(['images', 'annotations', 'categories_1', 'categories_2'])\n"
     ]
    }
   ],
   "source": [
    "# The annotations come in a json file\n",
    "json_file = os.path.join(dataset_dir, 'quadrant_enumeration/train_quadrant_enumeration.json')\n",
    "with open(json_file, 'r') as file:\n",
    "    annotations = json.load(file)\n",
    "# Convert every item into a data frame\n",
    "annotations = {k: pd.DataFrame(v) for k, v in annotations.items()}\n",
    "print(annotations.keys())"
   ]
  }
 ],
 "metadata": {
  "kernelspec": {
   "display_name": "Python 3 (ipykernel)",
   "language": "python",
   "name": "python3"
  },
  "language_info": {
   "codemirror_mode": {
    "name": "ipython",
    "version": 3
   },
   "file_extension": ".py",
   "mimetype": "text/x-python",
   "name": "python",
   "nbconvert_exporter": "python",
   "pygments_lexer": "ipython3",
   "version": "3.12.3"
  }
 },
 "nbformat": 4,
 "nbformat_minor": 5
}
