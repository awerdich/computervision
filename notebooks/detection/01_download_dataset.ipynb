{
 "cells": [
  {
   "cell_type": "markdown",
   "id": "2194dcc7-94ea-4a29-b170-b74395c8fd1b",
   "metadata": {},
   "source": [
    "## Dental Enumeration and Diagnosis on Panoramic X-rays ##\n",
    "### Download and process the Dentex training data ###\n",
    "\n",
    "Full data set: https://zenodo.org/records/7812323/files/training_data.zip\n",
    "\n",
    "Object detection data: https://dsets.s3.amazonaws.com/dentex/dentex-quadrant-enumeration.tar.gz\n",
    "\n",
    "### DATA ###\n",
    " \n",
    "The DENTEX dataset comprises panoramic dental X-rays obtained from three different institutions using standard clinical conditions but varying equipment and imaging protocols, resulting in diverse image quality reflecting heterogeneous clinical practice. The dataset includes X-rays from patients aged 12 and above, randomly selected from the hospital's database to ensure patient privacy and confidentiality.\n",
    "\n",
    "To enable effective use of the FDI system, the dataset is hierarchically organized into three types of data;\n",
    "\n",
    "(a) 693 X-rays labeled for quadrant detection and quadrant classes only,\n",
    "\n",
    "(b) 634 X-rays labeled for tooth detection with quadrant and tooth enumeration classes,\n",
    "\n",
    "(c) 1005 X-rays fully labeled for abnormal tooth detection with quadrant, tooth enumeration, and diagnosis classes.\n",
    "\n",
    "The diagnosis class includes four specific categories: caries, deep caries, periapical lesions, and impacted teeth. An additional 1571 unlabeled X-rays are provided for pre-training."
   ]
  },
  {
   "cell_type": "code",
   "execution_count": 1,
   "id": "f5992454-89c2-43f9-854b-6a252afb6607",
   "metadata": {},
   "outputs": [
    {
     "name": "stdout",
     "output_type": "stream",
     "text": [
      "Package version: v0.0.1\n",
      "Python version:  3.12.3 (main, Jun 18 2025, 17:59:45) [GCC 13.3.0]\n"
     ]
    }
   ],
   "source": [
    "import os\n",
    "import sys\n",
    "import glob\n",
    "import logging\n",
    "import json\n",
    "import numpy as np\n",
    "import pandas as pd\n",
    "from pathlib import Path\n",
    "from matplotlib import pyplot as plt\n",
    "\n",
    "logger = logging.getLogger(__name__)\n",
    "logger.setLevel(logging.INFO)\n",
    "\n",
    "%load_ext autoreload\n",
    "%autoreload 2\n",
    "import computervision\n",
    "from computervision.dentex import Dentex\n",
    "\n",
    "# Print version info\n",
    "print(f'Package version: {computervision.__version__}')\n",
    "print(f'Python version:  {sys.version}')"
   ]
  },
  {
   "cell_type": "code",
   "execution_count": 2,
   "id": "173b5ef5-20ef-49b4-ac33-7112b2b2d724",
   "metadata": {},
   "outputs": [
    {
     "name": "stdout",
     "output_type": "stream",
     "text": [
      "data_dir: /app/data\n"
     ]
    }
   ],
   "source": [
    "data_dir = os.path.join(os.environ.get('HOME'), 'data')\n",
    "print(f'data_dir: {data_dir}')\n",
    "\n",
    "# Directory to store the dentex data set\n",
    "dataset_dir = os.path.join(data_dir, 'dentex')\n",
    "Path(dataset_dir).mkdir(parents=True, exist_ok=True)"
   ]
  },
  {
   "cell_type": "markdown",
   "id": "720fd49e-7d86-4205-9518-5145382774da",
   "metadata": {},
   "source": [
    "## Download the Dentex data set ##"
   ]
  },
  {
   "cell_type": "code",
   "execution_count": 3,
   "id": "37daa61b-f7de-446b-bf03-51c58ec37236",
   "metadata": {},
   "outputs": [
    {
     "name": "stdout",
     "output_type": "stream",
     "text": [
      "Location of the data set for manual download: \n",
      " https://dsets.s3.amazonaws.com/dentex/dentex-quadrant-enumeration.tar.gz\n"
     ]
    },
    {
     "name": "stderr",
     "output_type": "stream",
     "text": [
      "dentex-quadrant-enumeration.tar.gz: 1.72GB [01:07, 25.3MB/s]                               \n"
     ]
    },
    {
     "name": "stdout",
     "output_type": "stream",
     "text": [
      "Extracting from .gz archive.\n"
     ]
    }
   ],
   "source": [
    "url = 'https://dsets.s3.amazonaws.com/dentex/dentex-quadrant-enumeration.tar.gz'\n",
    "# The Dentex class in src/computervision/dentex.py contains \n",
    "# short methods for working with the dentex data set\n",
    "url = os.environ.get('DT_URL')\n",
    "print(f'Location of the data set for manual download: \\n {url}')\n",
    "tar_file = Dentex().download(path=dataset_dir, url=url)"
   ]
  },
  {
   "cell_type": "code",
   "execution_count": 4,
   "id": "d6db8de3-8f20-4b8c-8432-517e824a3bd8",
   "metadata": {},
   "outputs": [
    {
     "name": "stdout",
     "output_type": "stream",
     "text": [
      "Found 634 images in /app/data/dentex/quadrant_enumeration/xrays.\n"
     ]
    }
   ],
   "source": [
    "# After extraction from the .tar.gz archive, the images should be on the local fs\n",
    "xrays_dir = os.path.join(dataset_dir, 'quadrant_enumeration/xrays')\n",
    "# Let's make sure that we have the expected number of images available\n",
    "expected_images = 634\n",
    "file_list = glob.glob(os.path.join(xrays_dir, '*.png'))\n",
    "print(f'Found {len(file_list)} images in {xrays_dir}.')\n",
    "# We want to be sure that the number of images is correct before we continue\n",
    "assert expected_images == len(file_list), \\\n",
    "    f'WARNING: expected images ({expected_images}) != images on file system ({len(file_list)})' "
   ]
  },
  {
   "cell_type": "markdown",
   "id": "252c69b2-8aa5-4f77-a6d0-af074f15cb5b",
   "metadata": {},
   "source": [
    "## Load annotations ##"
   ]
  },
  {
   "cell_type": "code",
   "execution_count": 5,
   "id": "437d86f0-c83a-407f-932b-4865c7fbf1ed",
   "metadata": {},
   "outputs": [
    {
     "data": {
      "text/plain": [
       "dict_keys(['images', 'annotations', 'categories_1', 'categories_2'])"
      ]
     },
     "metadata": {},
     "output_type": "display_data"
    },
    {
     "data": {
      "text/html": [
       "<div>\n",
       "<style scoped>\n",
       "    .dataframe tbody tr th:only-of-type {\n",
       "        vertical-align: middle;\n",
       "    }\n",
       "\n",
       "    .dataframe tbody tr th {\n",
       "        vertical-align: top;\n",
       "    }\n",
       "\n",
       "    .dataframe thead th {\n",
       "        text-align: right;\n",
       "    }\n",
       "</style>\n",
       "<table border=\"1\" class=\"dataframe\">\n",
       "  <thead>\n",
       "    <tr style=\"text-align: right;\">\n",
       "      <th></th>\n",
       "      <th>iscrowd</th>\n",
       "      <th>image_id</th>\n",
       "      <th>bbox</th>\n",
       "      <th>segmentation</th>\n",
       "      <th>id</th>\n",
       "      <th>area</th>\n",
       "      <th>category_id_1</th>\n",
       "      <th>category_id_2</th>\n",
       "      <th>height</th>\n",
       "      <th>width</th>\n",
       "      <th>file_name</th>\n",
       "    </tr>\n",
       "  </thead>\n",
       "  <tbody>\n",
       "  </tbody>\n",
       "</table>\n",
       "</div>"
      ],
      "text/plain": [
       "Empty DataFrame\n",
       "Columns: [iscrowd, image_id, bbox, segmentation, id, area, category_id_1, category_id_2, height, width, file_name]\n",
       "Index: []"
      ]
     },
     "metadata": {},
     "output_type": "display_data"
    },
    {
     "data": {
      "text/html": [
       "<div>\n",
       "<style scoped>\n",
       "    .dataframe tbody tr th:only-of-type {\n",
       "        vertical-align: middle;\n",
       "    }\n",
       "\n",
       "    .dataframe tbody tr th {\n",
       "        vertical-align: top;\n",
       "    }\n",
       "\n",
       "    .dataframe thead th {\n",
       "        text-align: right;\n",
       "    }\n",
       "</style>\n",
       "<table border=\"1\" class=\"dataframe\">\n",
       "  <thead>\n",
       "    <tr style=\"text-align: right;\">\n",
       "      <th></th>\n",
       "      <th>iscrowd</th>\n",
       "      <th>image_id</th>\n",
       "      <th>bbox</th>\n",
       "      <th>segmentation</th>\n",
       "      <th>id</th>\n",
       "      <th>area</th>\n",
       "      <th>category_id_1</th>\n",
       "      <th>category_id_2</th>\n",
       "      <th>height</th>\n",
       "      <th>width</th>\n",
       "      <th>file_name</th>\n",
       "    </tr>\n",
       "  </thead>\n",
       "  <tbody>\n",
       "    <tr>\n",
       "      <th>0</th>\n",
       "      <td>0</td>\n",
       "      <td>1</td>\n",
       "      <td>[1283.3333333333333, 459.25925925925924, 100.0...</td>\n",
       "      <td>[[1366, 459, 1383, 662, 1380, 716, 1295, 721, ...</td>\n",
       "      <td>1</td>\n",
       "      <td>22904</td>\n",
       "      <td>0</td>\n",
       "      <td>0</td>\n",
       "      <td>1316</td>\n",
       "      <td>2710</td>\n",
       "      <td>train_283.png</td>\n",
       "    </tr>\n",
       "    <tr>\n",
       "      <th>1</th>\n",
       "      <td>0</td>\n",
       "      <td>1</td>\n",
       "      <td>[1200.0, 460.18518518518516, 90.74074074074065...</td>\n",
       "      <td>[[1290, 463, 1290, 619, 1276, 719, 1224, 725, ...</td>\n",
       "      <td>2</td>\n",
       "      <td>18597</td>\n",
       "      <td>0</td>\n",
       "      <td>1</td>\n",
       "      <td>1316</td>\n",
       "      <td>2710</td>\n",
       "      <td>train_283.png</td>\n",
       "    </tr>\n",
       "  </tbody>\n",
       "</table>\n",
       "</div>"
      ],
      "text/plain": [
       "   iscrowd  image_id                                               bbox  \\\n",
       "0        0         1  [1283.3333333333333, 459.25925925925924, 100.0...   \n",
       "1        0         1  [1200.0, 460.18518518518516, 90.74074074074065...   \n",
       "\n",
       "                                        segmentation  id   area  \\\n",
       "0  [[1366, 459, 1383, 662, 1380, 716, 1295, 721, ...   1  22904   \n",
       "1  [[1290, 463, 1290, 619, 1276, 719, 1224, 725, ...   2  18597   \n",
       "\n",
       "   category_id_1  category_id_2  height  width      file_name  \n",
       "0              0              0    1316   2710  train_283.png  \n",
       "1              0              1    1316   2710  train_283.png  "
      ]
     },
     "metadata": {},
     "output_type": "display_data"
    },
    {
     "name": "stdout",
     "output_type": "stream",
     "text": [
      "Number of image files: 634\n",
      "Number of annotations: 18095\n"
     ]
    }
   ],
   "source": [
    "# The annotations come in a json file\n",
    "json_file = os.path.join(dataset_dir, 'quadrant_enumeration/train_quadrant_enumeration.json')\n",
    "with open(json_file, 'r') as file:\n",
    "    annotations = json.load(file)\n",
    "\n",
    "# Convert every item into a data frame\n",
    "annotations = {k: pd.DataFrame(v) for k, v in annotations.items()}\n",
    "display(annotations.keys())\n",
    "images = annotations.get('images').rename(columns={'id': 'image_id'})\n",
    "df = annotations.get('annotations').merge(images, on='image_id', how='inner')\n",
    "display(df.loc[df['file_name'].isnull()])\n",
    "\n",
    "display(df.head(2))\n",
    "print(f'Number of image files: {len(df['file_name'].unique())}')\n",
    "print(f'Number of annotations: {df.shape[0]}')"
   ]
  },
  {
   "cell_type": "markdown",
   "id": "8c540e8f-344d-4b08-bcf8-fc0086e1e6bb",
   "metadata": {},
   "source": [
    "### Categories ###"
   ]
  },
  {
   "cell_type": "code",
   "execution_count": 6,
   "id": "558b975b-ff74-4e19-b3fe-317f68eacf62",
   "metadata": {},
   "outputs": [
    {
     "data": {
      "text/plain": [
       "dict_keys(['images', 'annotations', 'categories_1', 'categories_2'])"
      ]
     },
     "metadata": {},
     "output_type": "display_data"
    },
    {
     "data": {
      "text/html": [
       "<div>\n",
       "<style scoped>\n",
       "    .dataframe tbody tr th:only-of-type {\n",
       "        vertical-align: middle;\n",
       "    }\n",
       "\n",
       "    .dataframe tbody tr th {\n",
       "        vertical-align: top;\n",
       "    }\n",
       "\n",
       "    .dataframe thead th {\n",
       "        text-align: right;\n",
       "    }\n",
       "</style>\n",
       "<table border=\"1\" class=\"dataframe\">\n",
       "  <thead>\n",
       "    <tr style=\"text-align: right;\">\n",
       "      <th></th>\n",
       "      <th>id</th>\n",
       "      <th>name</th>\n",
       "      <th>supercategory</th>\n",
       "    </tr>\n",
       "  </thead>\n",
       "  <tbody>\n",
       "    <tr>\n",
       "      <th>0</th>\n",
       "      <td>0</td>\n",
       "      <td>1</td>\n",
       "      <td>1</td>\n",
       "    </tr>\n",
       "    <tr>\n",
       "      <th>1</th>\n",
       "      <td>1</td>\n",
       "      <td>2</td>\n",
       "      <td>2</td>\n",
       "    </tr>\n",
       "    <tr>\n",
       "      <th>2</th>\n",
       "      <td>2</td>\n",
       "      <td>3</td>\n",
       "      <td>3</td>\n",
       "    </tr>\n",
       "    <tr>\n",
       "      <th>3</th>\n",
       "      <td>3</td>\n",
       "      <td>4</td>\n",
       "      <td>4</td>\n",
       "    </tr>\n",
       "  </tbody>\n",
       "</table>\n",
       "</div>"
      ],
      "text/plain": [
       "   id  name  supercategory\n",
       "0   0     1              1\n",
       "1   1     2              2\n",
       "2   2     3              3\n",
       "3   3     4              4"
      ]
     },
     "metadata": {},
     "output_type": "display_data"
    },
    {
     "data": {
      "text/html": [
       "<div>\n",
       "<style scoped>\n",
       "    .dataframe tbody tr th:only-of-type {\n",
       "        vertical-align: middle;\n",
       "    }\n",
       "\n",
       "    .dataframe tbody tr th {\n",
       "        vertical-align: top;\n",
       "    }\n",
       "\n",
       "    .dataframe thead th {\n",
       "        text-align: right;\n",
       "    }\n",
       "</style>\n",
       "<table border=\"1\" class=\"dataframe\">\n",
       "  <thead>\n",
       "    <tr style=\"text-align: right;\">\n",
       "      <th></th>\n",
       "      <th>id</th>\n",
       "      <th>name</th>\n",
       "      <th>supercategory</th>\n",
       "    </tr>\n",
       "  </thead>\n",
       "  <tbody>\n",
       "    <tr>\n",
       "      <th>0</th>\n",
       "      <td>0</td>\n",
       "      <td>1</td>\n",
       "      <td>1</td>\n",
       "    </tr>\n",
       "    <tr>\n",
       "      <th>1</th>\n",
       "      <td>1</td>\n",
       "      <td>2</td>\n",
       "      <td>2</td>\n",
       "    </tr>\n",
       "    <tr>\n",
       "      <th>2</th>\n",
       "      <td>2</td>\n",
       "      <td>3</td>\n",
       "      <td>3</td>\n",
       "    </tr>\n",
       "    <tr>\n",
       "      <th>3</th>\n",
       "      <td>3</td>\n",
       "      <td>4</td>\n",
       "      <td>4</td>\n",
       "    </tr>\n",
       "    <tr>\n",
       "      <th>4</th>\n",
       "      <td>4</td>\n",
       "      <td>5</td>\n",
       "      <td>5</td>\n",
       "    </tr>\n",
       "    <tr>\n",
       "      <th>5</th>\n",
       "      <td>5</td>\n",
       "      <td>6</td>\n",
       "      <td>6</td>\n",
       "    </tr>\n",
       "    <tr>\n",
       "      <th>6</th>\n",
       "      <td>6</td>\n",
       "      <td>7</td>\n",
       "      <td>7</td>\n",
       "    </tr>\n",
       "    <tr>\n",
       "      <th>7</th>\n",
       "      <td>7</td>\n",
       "      <td>8</td>\n",
       "      <td>8</td>\n",
       "    </tr>\n",
       "  </tbody>\n",
       "</table>\n",
       "</div>"
      ],
      "text/plain": [
       "   id name supercategory\n",
       "0   0    1             1\n",
       "1   1    2             2\n",
       "2   2    3             3\n",
       "3   3    4             4\n",
       "4   4    5             5\n",
       "5   5    6             6\n",
       "6   6    7             7\n",
       "7   7    8             8"
      ]
     },
     "metadata": {},
     "output_type": "display_data"
    }
   ],
   "source": [
    "display(annotations.keys())\n",
    "\n",
    "# Quadrants\n",
    "display(annotations.get('categories_1'))\n",
    "\n",
    "# Tooth numbers\n",
    "display(annotations.get('categories_2'))"
   ]
  },
  {
   "cell_type": "markdown",
   "id": "5342bc38-2b70-409b-9a8b-c014eab8bb8d",
   "metadata": {},
   "source": [
    "## FDI - ADA Position Mapping ##\n",
    "\n",
    "The **FDI World Dental Federation notation system** (also called the **international dental numbering system**) is a widely used method for identifying teeth. It is especially common outside of North America (where the Universal Numbering System is more common).\n",
    "\n",
    "Here’s how it works:\n",
    "\n",
    "### 1. Quadrant-Based System\n",
    "\n",
    "* The mouth is divided into **four quadrants**, each assigned a number:\n",
    "\n",
    "  * **1**: Upper right (maxillary right)\n",
    "  * **2**: Upper left (maxillary left)\n",
    "  * **3**: Lower left (mandibular left)\n",
    "  * **4**: Lower right (mandibular right)\n",
    "\n",
    "For **primary (deciduous) teeth**, quadrants are numbered **5–8** instead of 1–4.\n",
    "\n",
    "### 2. Tooth Number Within the Quadrant\n",
    "\n",
    "* Each tooth within a quadrant is given a **second digit** (1–8 for permanent teeth, 1–5 for primary teeth).\n",
    "* Counting always starts from the midline (central incisor) and moves backward:\n",
    "\n",
    "  * **1** = Central incisor\n",
    "  * **2** = Lateral incisor\n",
    "  * **3** = Canine\n",
    "  * **4** = First premolar (or first primary molar in deciduous set)\n",
    "  * **5** = Second premolar (or second primary molar)\n",
    "  * **6** = First molar\n",
    "  * **7** = Second molar\n",
    "  * **8** = Third molar (wisdom tooth)\n",
    "\n",
    "### 3. Two-Digit Number for Each Tooth\n",
    "\n",
    "* The **first digit** = quadrant\n",
    "* The **second digit** = position of the tooth in that quadrant\n",
    "\n",
    "For example:\n",
    "\n",
    "* **11** = Upper right central incisor\n",
    "* **24** = Upper left first premolar\n",
    "* **36** = Lower left first molar\n",
    "* **48** = Lower right third molar (wisdom tooth)\n",
    "\n",
    "For primary teeth:\n",
    "\n",
    "* **51** = Upper right primary central incisor\n",
    "* **75** = Lower left primary second molar\n",
    "\n",
    "---\n",
    "\n",
    "✅ **Advantages of the FDI system:**\n",
    "\n",
    "* Simple two-digit code\n",
    "* Logical quadrant + position structure\n",
    "* Internationally recognized (endorsed by the WHO and FDI)"
   ]
  },
  {
   "cell_type": "markdown",
   "id": "8de37acf-f11f-4b86-bd76-26af87bcbf2f",
   "metadata": {},
   "source": [
    "The **Universal Numbering System** is the most common dental notation system used in the **United States and Canada**. It is different from the FDI system and uses a **continuous numbering from 1 to 32** for permanent teeth (and letters A–T for primary teeth).\n",
    "\n",
    "---\n",
    "\n",
    "### 🔹 Permanent Teeth (1–32)\n",
    "\n",
    "* Numbering starts from the **upper right third molar** (maxillary right wisdom tooth) as **#1**.\n",
    "* Continues along the upper arch (right to left) until the **upper left third molar (#16)**.\n",
    "* Then moves down to the **lower left third molar (#17)** and continues along the lower arch (left to right), ending with the **lower right third molar (#32)**.\n",
    "\n",
    "So the sequence is:\n",
    "➡️ Upper right → across the maxilla → upper left → down to lower left → across the mandible → lower right.\n",
    "\n",
    "Examples:\n",
    "\n",
    "* **#8** = Maxillary right central incisor\n",
    "* **#14** = Maxillary left first molar\n",
    "* **#25** = Mandibular right central incisor\n",
    "* **#32** = Mandibular right third molar\n",
    "\n",
    "---\n",
    "\n",
    "### 🔹 Primary Teeth (A–T)\n",
    "\n",
    "* Instead of numbers, primary teeth are labeled **A through T**.\n",
    "* The pattern is similar:\n",
    "\n",
    "  * **A** = Upper right second primary molar\n",
    "  * Continues across to **J** = Upper left second primary molar\n",
    "  * Then drops down to **K** = Lower left second primary molar\n",
    "  * Continues across to **T** = Lower right second primary molar\n",
    "\n",
    "---\n",
    "\n",
    "✅ **Advantages:**\n",
    "\n",
    "* Very simple (each tooth has a unique number or letter).\n",
    "* Extremely common in North America, so widely recognized in dental records.\n",
    "\n",
    "⚠️ **Limitations:**\n",
    "\n",
    "* Not as internationally accepted as the FDI system.\n",
    "* Does not indicate quadrant or tooth type as clearly.\n",
    "\n",
    "---\n",
    "\n",
    "Would you like me to **make a visual chart of the Universal Numbering System** (like the one I made for FDI) so you can compare them side by side?\n"
   ]
  },
  {
   "cell_type": "code",
   "execution_count": 9,
   "id": "a7c8201c-02b0-401b-8fbf-d7694c7b0fbf",
   "metadata": {},
   "outputs": [],
   "source": [
    "# Create position number mapping\n",
    "def fdi_ada_mapping():\n",
    "    fdi, ada = [], []\n",
    "    for q in range(1, 5):\n",
    "        for p in range(1, 9):\n",
    "            fdi.append(int(str(q) + str(p)))\n",
    "        if q in [1, 3]:\n",
    "            for a in range(8*q, 8*(q-1), -1):\n",
    "                ada.append(a)\n",
    "        else:\n",
    "            for a in range(8*(q-1), 8*q, 1):\n",
    "                ada.append(a + 1)\n",
    "    return fdi, ada\n",
    "\n",
    "# FDI2ADA mapping\n",
    "fdi, ada = fdi_ada_mapping()\n",
    "fdi2ada = dict(zip(fdi, ada))\n",
    "\n",
    "# Create the FDI positions from the category data\n",
    "category_1 = dict(zip(annotations.get('categories_1')['id'].tolist(), \n",
    "                      annotations.get('categories_1')['name'].tolist()))\n",
    "\n",
    "category_2 = dict(zip(annotations.get('categories_2')['id'].tolist(),\n",
    "                      annotations.get('categories_2')['name'].tolist()))\n",
    "\n",
    "# Map the category IDs to the category names (quadrants and positions)\n",
    "df_pos = df.assign(quadrant=df['category_id_1'].apply(lambda id: category_1.get(id)),\n",
    "                   pos=df['category_id_2'].apply(lambda id: category_2.get(id)))\n",
    "\n",
    "# Create the FDI positions\n",
    "df_pos = df_pos.assign(fdi=df_pos['quadrant'].astype(str) + df_pos['pos'].astype(str))\n",
    "df_pos = df_pos.astype({'fdi': int})\n",
    "\n",
    "# Map FDI to ADA\n",
    "df_pos = df_pos.assign(ada=df_pos['fdi'].\\\n",
    "    apply(lambda fdi: fdi2ada.get(fdi))).\\\n",
    "    reset_index(drop=True)\n",
    "\n",
    "# Make sure that all positions were mapped\n",
    "assert df_pos.loc[df_pos['ada'].isnull()].shape[0] == 0"
   ]
  },
  {
   "cell_type": "code",
   "execution_count": 10,
   "id": "64fae032-61bf-4ccd-861e-0ea9ff537bb9",
   "metadata": {},
   "outputs": [
    {
     "data": {
      "image/png": "[encoded data removed]",
      "text/plain": [
       "<Figure size 600x300 with 1 Axes>"
      ]
     },
     "metadata": {},
     "output_type": "display_data"
    }
   ],
   "source": [
    "toothposition_image_name = 'toothpositions.jpg'\n",
    "# This image is in the project repository\n",
    "toothposition_image_dir = os.path.join(os.environ.get('HOME'), 'images')\n",
    "toothpositon_image_file = os.path.join(toothposition_image_dir, toothposition_image_name)\n",
    "fig, ax = plt.subplots(figsize=(6, 3))\n",
    "img = plt.imread(toothpositon_image_file)\n",
    "ax.imshow(img)\n",
    "ax.set(xticks=[], yticks=[])\n",
    "plt.show()"
   ]
  },
  {
   "cell_type": "code",
   "execution_count": 11,
   "id": "5ee406df-7f3b-4b3a-a806-a3f8a83b4b38",
   "metadata": {},
   "outputs": [
    {
     "data": {
      "text/html": [
       "<div>\n",
       "<style scoped>\n",
       "    .dataframe tbody tr th:only-of-type {\n",
       "        vertical-align: middle;\n",
       "    }\n",
       "\n",
       "    .dataframe tbody tr th {\n",
       "        vertical-align: top;\n",
       "    }\n",
       "\n",
       "    .dataframe thead th {\n",
       "        text-align: right;\n",
       "    }\n",
       "</style>\n",
       "<table border=\"1\" class=\"dataframe\">\n",
       "  <thead>\n",
       "    <tr style=\"text-align: right;\">\n",
       "      <th></th>\n",
       "      <th>iscrowd</th>\n",
       "      <th>image_id</th>\n",
       "      <th>bbox</th>\n",
       "      <th>segmentation</th>\n",
       "      <th>id</th>\n",
       "      <th>area</th>\n",
       "      <th>category_id_1</th>\n",
       "      <th>category_id_2</th>\n",
       "      <th>height</th>\n",
       "      <th>width</th>\n",
       "      <th>file_name</th>\n",
       "      <th>quadrant</th>\n",
       "      <th>pos</th>\n",
       "      <th>fdi</th>\n",
       "      <th>ada</th>\n",
       "    </tr>\n",
       "  </thead>\n",
       "  <tbody>\n",
       "    <tr>\n",
       "      <th>2617</th>\n",
       "      <td>0</td>\n",
       "      <td>91</td>\n",
       "      <td>[1377.5, 457.5, 138.75, 172.5]</td>\n",
       "      <td>[[1400, 560, 1383, 531, 1377, 505, 1393, 485, ...</td>\n",
       "      <td>2618</td>\n",
       "      <td>13910</td>\n",
       "      <td>2</td>\n",
       "      <td>7</td>\n",
       "      <td>976</td>\n",
       "      <td>1976</td>\n",
       "      <td>train_393.png</td>\n",
       "      <td>3</td>\n",
       "      <td>8</td>\n",
       "      <td>38</td>\n",
       "      <td>17</td>\n",
       "    </tr>\n",
       "    <tr>\n",
       "      <th>11778</th>\n",
       "      <td>0</td>\n",
       "      <td>411</td>\n",
       "      <td>[609.3846153846154, 505.0769230769231, 151.923...</td>\n",
       "      <td>[[647, 693, 672, 682, 703, 645, 740, 599, 761,...</td>\n",
       "      <td>11779</td>\n",
       "      <td>15125</td>\n",
       "      <td>3</td>\n",
       "      <td>4</td>\n",
       "      <td>976</td>\n",
       "      <td>1976</td>\n",
       "      <td>train_381.png</td>\n",
       "      <td>4</td>\n",
       "      <td>5</td>\n",
       "      <td>45</td>\n",
       "      <td>29</td>\n",
       "    </tr>\n",
       "  </tbody>\n",
       "</table>\n",
       "</div>"
      ],
      "text/plain": [
       "       iscrowd  image_id                                               bbox  \\\n",
       "2617         0        91                     [1377.5, 457.5, 138.75, 172.5]   \n",
       "11778        0       411  [609.3846153846154, 505.0769230769231, 151.923...   \n",
       "\n",
       "                                            segmentation     id   area  \\\n",
       "2617   [[1400, 560, 1383, 531, 1377, 505, 1393, 485, ...   2618  13910   \n",
       "11778  [[647, 693, 672, 682, 703, 645, 740, 599, 761,...  11779  15125   \n",
       "\n",
       "       category_id_1  category_id_2  height  width      file_name  quadrant  \\\n",
       "2617               2              7     976   1976  train_393.png         3   \n",
       "11778              3              4     976   1976  train_381.png         4   \n",
       "\n",
       "      pos  fdi  ada  \n",
       "2617    8   38   17  \n",
       "11778   5   45   29  "
      ]
     },
     "metadata": {},
     "output_type": "display_data"
    },
    {
     "name": "stdout",
     "output_type": "stream",
     "text": [
      "(18095, 15)\n"
     ]
    }
   ],
   "source": [
    "# Final data frame with ADA positions\n",
    "display(df_pos.sample(2))\n",
    "print(df_pos.shape)"
   ]
  },
  {
   "cell_type": "code",
   "execution_count": 12,
   "id": "f7fec01d-fd1e-406c-b1e1-f9c03ba57f01",
   "metadata": {},
   "outputs": [
    {
     "name": "stdout",
     "output_type": "stream",
     "text": [
      "/app/data/dentex/quadrant_enumeration/train_quadrant_enumeration.json\n",
      "Parquet file with annotations saved to: /app/data/train_quadrant_enumeration.parquet\n"
     ]
    }
   ],
   "source": [
    "# Save the data frame\n",
    "print(json_file)\n",
    "parquet_file_name = f'{os.path.splitext(os.path.basename(json_file))[0]}.parquet'\n",
    "parquet_file = os.path.join(data_dir, parquet_file_name)\n",
    "df_pos.to_parquet(parquet_file)\n",
    "print(f'Parquet file with annotations saved to: {parquet_file}')"
   ]
  }
 ],
 "metadata": {
  "kernelspec": {
   "display_name": "Python 3 (ipykernel)",
   "language": "python",
   "name": "python3"
  },
  "language_info": {
   "codemirror_mode": {
    "name": "ipython",
    "version": 3
   },
   "file_extension": ".py",
   "mimetype": "text/x-python",
   "name": "python",
   "nbconvert_exporter": "python",
   "pygments_lexer": "ipython3",
   "version": "3.12.3"
  }
 },
 "nbformat": 4,
 "nbformat_minor": 5
}
