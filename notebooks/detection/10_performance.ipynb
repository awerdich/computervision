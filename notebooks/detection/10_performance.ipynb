{
 "cells": [
  {
   "cell_type": "markdown",
   "id": "03b8c7ba-53b2-4b86-86e1-db2ab56e4d61",
   "metadata": {},
   "source": [
    "### Performance Evaluation ###"
   ]
  },
  {
   "cell_type": "code",
   "execution_count": 58,
   "id": "c792a7e0-6b93-45a9-bc77-17378d1a7122",
   "metadata": {},
   "outputs": [
    {
     "name": "stdout",
     "output_type": "stream",
     "text": [
      "The autoreload extension is already loaded. To reload it, use:\n",
      "  %reload_ext autoreload\n",
      "Project version: v0.0.1\n",
      "Python version:  3.12.3 (main, Jun 18 2025, 17:59:45) [GCC 13.3.0]\n"
     ]
    }
   ],
   "source": [
    "import sys\n",
    "import os\n",
    "import numpy as np\n",
    "import json\n",
    "import pandas as pd\n",
    "import logging\n",
    "from pathlib import Path\n",
    "from matplotlib import pyplot as plt\n",
    "from matplotlib.patches import Rectangle\n",
    "\n",
    "logger = logging.getLogger(__name__)\n",
    "\n",
    "# PyTorch\n",
    "import torch\n",
    "from torchvision import ops\n",
    "\n",
    "# Hugging Face Library\n",
    "from transformers import RTDetrV2ForObjectDetection, RTDetrImageProcessor\n",
    "\n",
    "%load_ext autoreload\n",
    "%autoreload 2\n",
    "import computervision\n",
    "from computervision.imageproc import is_image, ImageData, clipxywh, xyxy2xywh, xywh2xyxy\n",
    "from computervision.datasets import DETRdataset, get_gpu_info\n",
    "from computervision.transformations import AugmentationTransform\n",
    "from computervision.performance import DetectionMetrics\n",
    "\n",
    "print(f'Project version: {computervision.__version__}')\n",
    "print(f'Python version:  {sys.version}')"
   ]
  },
  {
   "cell_type": "code",
   "execution_count": 2,
   "id": "363ffa48-4716-4e20-a169-09cc97360393",
   "metadata": {},
   "outputs": [
    {
     "name": "stdout",
     "output_type": "stream",
     "text": [
      "CUDA available: True\n",
      "Number of GPUs found:  1\n",
      "Current device ID: 0\n",
      "GPU device name:   NVIDIA GeForce RTX 3060 Laptop GPU\n",
      "PyTorch version:   2.8.0a0+34c6371d24.nv25.08\n",
      "CUDA version:      13.0\n",
      "CUDNN version:     91200\n",
      "Device for model training/inference: cuda:0\n",
      "Current device cuda:0\n"
     ]
    }
   ],
   "source": [
    "# Check GPU availability\n",
    "device, device_str = get_gpu_info()\n",
    "print(f'Current device {device}')"
   ]
  },
  {
   "cell_type": "code",
   "execution_count": 59,
   "id": "e74c6673-8888-41f4-b18f-586560a797af",
   "metadata": {},
   "outputs": [],
   "source": [
    "# Function to plot an image with the bounding boxes\n",
    "def plot_boxes(image, box_list, ax, label_list=None, color=None, cmap='grey', offset_xy=(0, 0)):\n",
    "    offset_xy = (10 + offset_xy[0], 100 + offset_xy[1])\n",
    "    # Take a ratio that looks good\n",
    "    offset = (image.shape[1]*offset_xy[0]/2500,\n",
    "              image.shape[0]*offset_xy[1]/1250)\n",
    "    if color is None:\n",
    "        # If no color is provided, color each box in a different color\n",
    "        color_list = list(plt.cm.rainbow(np.linspace(0, 1, len(box_list))))\n",
    "    else:\n",
    "        color_list = [color]*len(box_list)\n",
    "    ax.set(xticks=[], yticks=[])\n",
    "    ax.imshow(image, cmap=cmap)\n",
    "    # Loop over the bounding boxes\n",
    "    for b, box in enumerate(box_list):\n",
    "        rect = Rectangle(xy=(box[0], box[1]),\n",
    "                         width=box[2],\n",
    "                         height=box[3],\n",
    "                         linewidth=1.5,\n",
    "                         edgecolor=color_list[b],\n",
    "                         facecolor='none',\n",
    "                         alpha=0.7)\n",
    "        ax.add_patch(rect)\n",
    "        if label_list is not None:\n",
    "            ax.text(x=box[0]+offset[0], y=box[1]+offset[1], s=label_list[b], color=color_list[b], fontsize=8)\n",
    "    return ax\n",
    "\n",
    "def detr_detect(detr_model, detr_processor, image, threshold):\n",
    "    \"\"\" Predicts bounding boxes in xywh format \"\"\"\n",
    "    assert len(im.shape) == 3, 'Need RGB image as input'\n",
    "    x_lim, y_lim = (0, image.shape[1]), (0, image.shape[0])\n",
    "    im_input = processor(im, return_tensors='pt').to(device)\n",
    "    with torch.no_grad():\n",
    "        model_output = model(**im_input)\n",
    "    output = processor.post_process_object_detection(model_output, \n",
    "                                                     target_sizes=torch.tensor([image.shape[:2]]),\n",
    "                                                     threshold=threshold)\n",
    "    output_boxes = output[0].get('boxes').cpu().numpy()\n",
    "    if len(output_boxes) > 0:\n",
    "        bboxes = [clipxywh(xyxy2xywh(list(box)), xlim=x_lim, ylim=y_lim, decimals=0) for box in output_boxes]\n",
    "        areas = [int(box[2]*box[3]) for box in bboxes]\n",
    "        categories = list(output[0].get('labels').cpu().numpy())\n",
    "        scores = output[0].get('scores').cpu().numpy()\n",
    "        categories = [int(c) for c in categories]\n",
    "        scores = [np.around(s, decimals=4) for s in scores]\n",
    "        predictions = {'bboxes': bboxes, 'areas': areas, 'categories': categories, 'scores': scores}\n",
    "    else:\n",
    "        logger.warning(f'No predictions at threshold {threshold}.')\n",
    "        predictions = None\n",
    "    return predictions"
   ]
  },
  {
   "cell_type": "markdown",
   "id": "a62805bf-1fe0-4ce1-8e94-b0de0c6e2df7",
   "metadata": {},
   "source": [
    "### Test data ###"
   ]
  },
  {
   "cell_type": "code",
   "execution_count": 23,
   "id": "e0b9347d-372e-425c-9ca8-ac3a0b6e412c",
   "metadata": {},
   "outputs": [
    {
     "data": {
      "text/html": [
       "<div>\n",
       "<style scoped>\n",
       "    .dataframe tbody tr th:only-of-type {\n",
       "        vertical-align: middle;\n",
       "    }\n",
       "\n",
       "    .dataframe tbody tr th {\n",
       "        vertical-align: top;\n",
       "    }\n",
       "\n",
       "    .dataframe thead th {\n",
       "        text-align: right;\n",
       "    }\n",
       "</style>\n",
       "<table border=\"1\" class=\"dataframe\">\n",
       "  <thead>\n",
       "    <tr style=\"text-align: right;\">\n",
       "      <th></th>\n",
       "      <th>multi_file</th>\n",
       "      <th>pos</th>\n",
       "      <th>box_score</th>\n",
       "      <th>bbox</th>\n",
       "      <th>PatientIDE</th>\n",
       "      <th>annotator_name</th>\n",
       "      <th>d1</th>\n",
       "      <th>d2</th>\n",
       "      <th>d3</th>\n",
       "      <th>d4</th>\n",
       "      <th>d5</th>\n",
       "      <th>d6</th>\n",
       "      <th>disease</th>\n",
       "      <th>quality</th>\n",
       "      <th>single_file</th>\n",
       "    </tr>\n",
       "  </thead>\n",
       "  <tbody>\n",
       "    <tr>\n",
       "      <th>0</th>\n",
       "      <td>457fecca_20180208_00.png</td>\n",
       "      <td>20</td>\n",
       "      <td>0.565375</td>\n",
       "      <td>[0.0, 453.28, 267.08, 865.22]</td>\n",
       "      <td>457fecca</td>\n",
       "      <td>Maria</td>\n",
       "      <td>2</td>\n",
       "      <td>2</td>\n",
       "      <td>2</td>\n",
       "      <td>3</td>\n",
       "      <td>2</td>\n",
       "      <td>0</td>\n",
       "      <td>stable</td>\n",
       "      <td>yes</td>\n",
       "      <td>box_457fecca_20180208_00_00.png</td>\n",
       "    </tr>\n",
       "    <tr>\n",
       "      <th>1</th>\n",
       "      <td>8fb6f1a1_20220322_00.png</td>\n",
       "      <td>3</td>\n",
       "      <td>0.989590</td>\n",
       "      <td>[0.0, 69.95, 501.94, 892.3]</td>\n",
       "      <td>8fb6f1a1</td>\n",
       "      <td>Maria</td>\n",
       "      <td>3</td>\n",
       "      <td>2</td>\n",
       "      <td>3</td>\n",
       "      <td>3</td>\n",
       "      <td>2</td>\n",
       "      <td>3</td>\n",
       "      <td>healthy</td>\n",
       "      <td>yes</td>\n",
       "      <td>box_8fb6f1a1_20220322_00_02.png</td>\n",
       "    </tr>\n",
       "  </tbody>\n",
       "</table>\n",
       "</div>"
      ],
      "text/plain": [
       "                 multi_file  pos  box_score                           bbox  \\\n",
       "0  457fecca_20180208_00.png   20   0.565375  [0.0, 453.28, 267.08, 865.22]   \n",
       "1  8fb6f1a1_20220322_00.png    3   0.989590    [0.0, 69.95, 501.94, 892.3]   \n",
       "\n",
       "  PatientIDE annotator_name  d1  d2  d3  d4  d5  d6  disease quality  \\\n",
       "0   457fecca          Maria   2   2   2   3   2   0   stable     yes   \n",
       "1   8fb6f1a1          Maria   3   2   3   3   2   3  healthy     yes   \n",
       "\n",
       "                       single_file  \n",
       "0  box_457fecca_20180208_00_00.png  \n",
       "1  box_8fb6f1a1_20220322_00_02.png  "
      ]
     },
     "metadata": {},
     "output_type": "display_data"
    }
   ],
   "source": [
    "# HSDM DATA\n",
    "image_dir = os.path.join(os.environ.get('DATA'), 'dataset_object_240921')\n",
    "df_file_name = 'objectdata_240921_clean_ide.parquet'\n",
    "df_file = os.path.join(image_dir, df_file_name)\n",
    "df = pd.read_parquet(df_file)\n",
    "display(df.head(2))\n",
    "\n",
    "file_col = 'multi_file'\n",
    "pos_col = 'pos'\n",
    "bbox_col = 'bbox'\n",
    "\n",
    "file_name_list = sorted(list(df[file_col].unique()))\n",
    "file_list = [os.path.join(image_dir, file) for file in file_name_list]\n",
    "# Check the test data\n",
    "checked = [is_image(file) for file in file_list]\n",
    "assert np.sum(checked) == len(file_list)"
   ]
  },
  {
   "cell_type": "code",
   "execution_count": 17,
   "id": "c808d9d9-362f-4141-8367-5e215a4c8066",
   "metadata": {},
   "outputs": [
    {
     "data": {
      "text/html": [
       "<div>\n",
       "<style scoped>\n",
       "    .dataframe tbody tr th:only-of-type {\n",
       "        vertical-align: middle;\n",
       "    }\n",
       "\n",
       "    .dataframe tbody tr th {\n",
       "        vertical-align: top;\n",
       "    }\n",
       "\n",
       "    .dataframe thead th {\n",
       "        text-align: right;\n",
       "    }\n",
       "</style>\n",
       "<table border=\"1\" class=\"dataframe\">\n",
       "  <thead>\n",
       "    <tr style=\"text-align: right;\">\n",
       "      <th></th>\n",
       "      <th>bbox</th>\n",
       "      <th>quadrant</th>\n",
       "      <th>ada</th>\n",
       "      <th>file_name</th>\n",
       "      <th>file_base_name</th>\n",
       "      <th>quadrants</th>\n",
       "      <th>height</th>\n",
       "      <th>width</th>\n",
       "      <th>transformation</th>\n",
       "      <th>transformation_name</th>\n",
       "      <th>dset</th>\n",
       "    </tr>\n",
       "  </thead>\n",
       "  <tbody>\n",
       "    <tr>\n",
       "      <th>11230</th>\n",
       "      <td>[589, 0, 45, 306]</td>\n",
       "      <td>1.0</td>\n",
       "      <td>8.0</td>\n",
       "      <td>test_train_219_01_02.png</td>\n",
       "      <td>train_219</td>\n",
       "      <td>1</td>\n",
       "      <td>635</td>\n",
       "      <td>306</td>\n",
       "      <td>2</td>\n",
       "      <td>test_set</td>\n",
       "      <td>test</td>\n",
       "    </tr>\n",
       "    <tr>\n",
       "      <th>11231</th>\n",
       "      <td>[527, 0, 91, 306]</td>\n",
       "      <td>1.0</td>\n",
       "      <td>7.0</td>\n",
       "      <td>test_train_219_01_02.png</td>\n",
       "      <td>train_219</td>\n",
       "      <td>1</td>\n",
       "      <td>635</td>\n",
       "      <td>306</td>\n",
       "      <td>2</td>\n",
       "      <td>test_set</td>\n",
       "      <td>test</td>\n",
       "    </tr>\n",
       "  </tbody>\n",
       "</table>\n",
       "</div>"
      ],
      "text/plain": [
       "                    bbox  quadrant  ada                 file_name  \\\n",
       "11230  [589, 0, 45, 306]       1.0  8.0  test_train_219_01_02.png   \n",
       "11231  [527, 0, 91, 306]       1.0  7.0  test_train_219_01_02.png   \n",
       "\n",
       "      file_base_name  quadrants  height  width  transformation  \\\n",
       "11230      train_219          1     635    306               2   \n",
       "11231      train_219          1     635    306               2   \n",
       "\n",
       "      transformation_name  dset  \n",
       "11230            test_set  test  \n",
       "11231            test_set  test  "
      ]
     },
     "metadata": {},
     "output_type": "display_data"
    }
   ],
   "source": [
    "# Dentex testing data\n",
    "image_dir = os.path.join(os.environ.get('DATA'), 'dentex_detection_250928', 'test')\n",
    "df_file_name = 'train_quadrant_enumeration_test_set.parquet'\n",
    "df_file = os.path.join(image_dir, df_file_name)\n",
    "df = pd.read_parquet(df_file)\n",
    "df = df.loc[(df['dset'] == 'test') & (df['transformation'] == 2)]\n",
    "display(df.head(2))\n",
    "\n",
    "file_col = 'file_name'\n",
    "pos_col = 'ada'\n",
    "bbox_col = 'bbox'\n",
    "\n",
    "file_name_list = sorted(list(df[file_col].unique()))\n",
    "file_list = [os.path.join(image_dir, file) for file in file_name_list]\n",
    "# Check the test data\n",
    "checked = [is_image(file) for file in file_list]\n",
    "assert np.sum(checked) == len(file_list)"
   ]
  },
  {
   "cell_type": "code",
   "execution_count": 18,
   "id": "00ab55c8-3b17-405a-9c9e-fa2bf5e57fe0",
   "metadata": {},
   "outputs": [
    {
     "data": {
      "text/html": [
       "<div>\n",
       "<style scoped>\n",
       "    .dataframe tbody tr th:only-of-type {\n",
       "        vertical-align: middle;\n",
       "    }\n",
       "\n",
       "    .dataframe tbody tr th {\n",
       "        vertical-align: top;\n",
       "    }\n",
       "\n",
       "    .dataframe thead th {\n",
       "        text-align: right;\n",
       "    }\n",
       "</style>\n",
       "<table border=\"1\" class=\"dataframe\">\n",
       "  <thead>\n",
       "    <tr style=\"text-align: right;\">\n",
       "      <th></th>\n",
       "      <th>id</th>\n",
       "      <th>license</th>\n",
       "      <th>file_name</th>\n",
       "      <th>height</th>\n",
       "      <th>width</th>\n",
       "      <th>date_captured</th>\n",
       "      <th>file_name_hash</th>\n",
       "      <th>dset</th>\n",
       "      <th>multi_file</th>\n",
       "      <th>bbox</th>\n",
       "      <th>category</th>\n",
       "      <th>disease</th>\n",
       "      <th>pos</th>\n",
       "      <th>box_id</th>\n",
       "    </tr>\n",
       "  </thead>\n",
       "  <tbody>\n",
       "    <tr>\n",
       "      <th>0</th>\n",
       "      <td>0</td>\n",
       "      <td>1</td>\n",
       "      <td>pbws-super-set-1-completed__PBWs_Super_Set_2-0...</td>\n",
       "      <td>480</td>\n",
       "      <td>640</td>\n",
       "      <td>2024-09-17T23:44:33+00:00</td>\n",
       "      <td>40762886f4</td>\n",
       "      <td>train</td>\n",
       "      <td>40762886f4.jpg</td>\n",
       "      <td>[381.0, 242.0, 481.474, 279.948]</td>\n",
       "      <td>composite</td>\n",
       "      <td>composite</td>\n",
       "      <td>NaN</td>\n",
       "      <td>40762886f4_0</td>\n",
       "    </tr>\n",
       "    <tr>\n",
       "      <th>1</th>\n",
       "      <td>0</td>\n",
       "      <td>1</td>\n",
       "      <td>pbws-super-set-1-completed__PBWs_Super_Set_2-0...</td>\n",
       "      <td>480</td>\n",
       "      <td>640</td>\n",
       "      <td>2024-09-17T23:44:33+00:00</td>\n",
       "      <td>40762886f4</td>\n",
       "      <td>train</td>\n",
       "      <td>40762886f4.jpg</td>\n",
       "      <td>[8.0, 0.0, 130.293, 176.736]</td>\n",
       "      <td>tooth 23</td>\n",
       "      <td>teeth</td>\n",
       "      <td>11.0</td>\n",
       "      <td>40762886f4_1</td>\n",
       "    </tr>\n",
       "  </tbody>\n",
       "</table>\n",
       "</div>"
      ],
      "text/plain": [
       "   id  license                                          file_name  height  \\\n",
       "0   0        1  pbws-super-set-1-completed__PBWs_Super_Set_2-0...     480   \n",
       "1   0        1  pbws-super-set-1-completed__PBWs_Super_Set_2-0...     480   \n",
       "\n",
       "   width              date_captured file_name_hash   dset      multi_file  \\\n",
       "0    640  2024-09-17T23:44:33+00:00     40762886f4  train  40762886f4.jpg   \n",
       "1    640  2024-09-17T23:44:33+00:00     40762886f4  train  40762886f4.jpg   \n",
       "\n",
       "                               bbox   category    disease   pos        box_id  \n",
       "0  [381.0, 242.0, 481.474, 279.948]  composite  composite   NaN  40762886f4_0  \n",
       "1      [8.0, 0.0, 130.293, 176.736]   tooth 23      teeth  11.0  40762886f4_1  "
      ]
     },
     "metadata": {},
     "output_type": "display_data"
    },
    {
     "name": "stdout",
     "output_type": "stream",
     "text": [
      "['composite', 'tooth 23', 'tooth 25', 'tooth 26', 'tooth 27', 'tooth 33', 'tooth 34', 'tooth 35', 'tooth 36', 'tooth 37', 'tooth 17', 'tooth 16', 'tooth 15', 'tooth 46', 'tooth 47', 'caries', 'tooth 24', 'Calculus', 'root filling', 'crown', 'tooth 45', 'tooth 44', 'tooth 14', 'tooth 18', 'tooth 48', 'tooth 13', 'tooth 43', 'tooth 28', 'tooth 38', 'tooth 12', 'amalgam', 'implant', 'tooth 22', 'periapical pathology', 'tooth 32']\n",
      "Using 991 images from the Roboflow data set\n",
      "Annotations: 8788\n"
     ]
    }
   ],
   "source": [
    "# Roboflow test data\n",
    "image_dir = os.path.join(os.environ.get('DATA'), 'dataset_object_roboflow_240930')\n",
    "df_file_name = 'roboflow_240930.parquet'\n",
    "df_file = os.path.join(image_dir, df_file_name)\n",
    "df = pd.read_parquet(df_file)\n",
    "display(df.head(2))\n",
    "# What are the categories in this data set\n",
    "print(list(df['category'].unique()))\n",
    "\n",
    "file_col = 'multi_file'\n",
    "pos_col = 'pos'\n",
    "bbox_col = 'bbox'\n",
    "\n",
    "# Let's get rid of the rows that do not have locations\n",
    "df = df.loc[~df[pos_col].isnull()]\n",
    "\n",
    "file_name_list = sorted(list(df[file_col].unique()))\n",
    "file_list = [os.path.join(image_dir, file) for file in file_name_list]\n",
    "# Check the test data\n",
    "checked = [is_image(file) for file in file_list]\n",
    "assert np.sum(checked) == len(file_list)\n",
    "print(f'Using {len(checked)} images from the Roboflow data set')\n",
    "print(f'Annotations: {df.shape[0]}')"
   ]
  },
  {
   "cell_type": "markdown",
   "id": "62de5788-b1f2-4bff-9ae8-572a80acf8f8",
   "metadata": {},
   "source": [
    "### Model and image processor ###"
   ]
  },
  {
   "cell_type": "code",
   "execution_count": 19,
   "id": "7868849c-17a8-49ae-a567-f90f628b040e",
   "metadata": {},
   "outputs": [
    {
     "data": {
      "text/plain": [
       "dict_keys(['model_info', 'id2label', 'training_args', 'processor_params', 'bbox_format'])"
      ]
     },
     "metadata": {},
     "output_type": "display_data"
    }
   ],
   "source": [
    "model_name = 'rtdetr_251001_02'\n",
    "model_dir = os.path.join(os.environ.get('DATA'), 'model', model_name)\n",
    "model_json_name = f'{model_name}.json'\n",
    "model_json_file = os.path.join(model_dir, model_json_name)\n",
    "\n",
    "checkpoint_name = 'checkpoint-17500'\n",
    "checkpoint = os.path.join(model_dir, checkpoint_name)\n",
    "\n",
    "# Load model parameters\n",
    "with open(model_json_file, mode='r') as fl:\n",
    "    model_parameters = json.load(fl)\n",
    "display(model_parameters.keys())\n",
    "\n",
    "# Category ID to label conversion\n",
    "id2label = model_parameters.get('id2label')\n",
    "id2label = {int(k): int(v) for k,v in id2label.items()}\n",
    "\n",
    "# Load the image processor\n",
    "processor = RTDetrImageProcessor.from_pretrained(checkpoint)\n",
    "# Load the model\n",
    "model = RTDetrV2ForObjectDetection.from_pretrained(checkpoint).to(device)"
   ]
  },
  {
   "cell_type": "markdown",
   "id": "b3317cc8-d059-4095-8299-a41e1bf875a5",
   "metadata": {},
   "source": [
    "### Predict on an image ###"
   ]
  },
  {
   "cell_type": "code",
   "execution_count": 55,
   "id": "0e1f7bba-d729-41d9-9fe4-5caedd7a3c21",
   "metadata": {},
   "outputs": [
    {
     "name": "stdout",
     "output_type": "stream",
     "text": [
      "True: [29, 31]\n",
      "Pred: [29, 28, 30, 31, 32]\n"
     ]
    },
    {
     "data": {
      "image/png": "[encoded data removed]",
      "text/plain": [
       "<Figure size 400x400 with 1 Axes>"
      ]
     },
     "metadata": {},
     "output_type": "display_data"
    }
   ],
   "source": [
    "figsize = (4, 4)\n",
    "threshold = 0.02\n",
    "idx = 13\n",
    "file_name = file_name_list[idx]\n",
    "    \n",
    "file = os.path.join(image_dir, file_name)\n",
    "im = ImageData().load_image(file)\n",
    "im = ImageData().np2color(im)\n",
    "df_file = df.loc[df[file_col] == file_name]\n",
    "bbox_list = df_file[bbox_col].tolist()\n",
    "pos_list = df_file[pos_col].tolist()\n",
    "im_width, im_height = im.shape[1], im.shape[0]\n",
    "x_lim, y_lim = (0, im_width), (0, im_height)\n",
    "    \n",
    "# Predict positions\n",
    "output = detr_detect(detr_model=model, detr_processor=processor, image=im, threshold=threshold)\n",
    "if output is not None:\n",
    "    output_bbox_list = output.get('bboxes')\n",
    "    output_cat_list = output.get('categories')\n",
    "    output_pos_list = [id2label.get(cat) for cat in output_cat_list]\n",
    "    score_list = output.get('scores')\n",
    "    output_label_list = [f'P{p}\\n{s:.2f}' for p, s in zip(output_pos_list, score_list)]\n",
    "\n",
    "    print(f'True: {pos_list}')\n",
    "    print(f'Pred: {output_pos_list}')\n",
    "    \n",
    "    fig, ax = plt.subplots(figsize=figsize)\n",
    "    ax = plot_boxes(image=im, box_list=bbox_list, label_list=pos_list, color='w', ax=ax)\n",
    "    ax = plot_boxes(image=im, box_list=output_bbox_list, label_list=output_label_list, ax=ax, offset_xy=(0, 200))\n",
    "    plt.show()"
   ]
  },
  {
   "cell_type": "code",
   "execution_count": 106,
   "id": "1e006a71-7c31-4dc5-915b-a2c87f1f612e",
   "metadata": {},
   "outputs": [
    {
     "name": "stdout",
     "output_type": "stream",
     "text": [
      "29\n"
     ]
    }
   ],
   "source": [
    "# Performance evaluations\n",
    "threshold = 0.02\n",
    "min_iou = 0.5\n",
    "# Ground truth\n",
    "true_labels = df_file[pos_col].tolist()\n",
    "true_bboxes = df_file[bbox_col].tolist()\n",
    "true_bboxes = [clipxywh(list(box), xlim=x_lim, ylim=y_lim, decimals=0) for box in true_bboxes]\n",
    "\n",
    "# Predictions\n",
    "output = detr_detect(detr_model=model, detr_processor=processor, image=im, threshold=threshold)\n",
    "pred_labels = [int(id2label.get(cat)) for cat in output.get('categories')]\n",
    "pred_bboxes = output.get('bboxes')\n",
    "pred_scores = output.get('scores')\n",
    "\n",
    "# We want to classify the predictions\n",
    "p = 0\n",
    "# What is the label for this prediction?\n",
    "p_label = pred_labels[p]\n",
    "print(p_label)\n",
    "# Do we have this label in the ground truth?\n",
    "if p_label in true_labels:\n",
    "    # The predicted label is in the image\n",
    "    t = true_labels.index(p_label)\n",
    "    t_bbox = true_bboxes[t]\n",
    "    p_bbox = pred_bboxes[p]\n",
    "    # Calculate the iou\n",
    "    p_iou = DetectionMetrics.compute_iou(p_bbox, t_bbox, bbox_format='xywh', method='pt')\n",
    "    # Is the iou above the IoU threshold?\n",
    "    if p_iou >= min_iou:\n",
    "        prediction = 'TP'\n",
    "    else:\n",
    "        prediction = 'FP'\n",
    "else:\n",
    "    # The predicted label has no ground truth\n",
    "    # Here, we don't know if it is not in the image, when the ground truth data is incompletely labeled\n",
    "    p_iou = 0\n",
    "    prediction = 'FP'"
   ]
  },
  {
   "cell_type": "code",
   "execution_count": 105,
   "id": "0c57a5e0-6914-4942-a33d-111b811878ee",
   "metadata": {},
   "outputs": [
    {
     "name": "stdout",
     "output_type": "stream",
     "text": [
      "0.5836030840873718\n"
     ]
    }
   ],
   "source": [
    "print(p_iou)"
   ]
  },
  {
   "cell_type": "code",
   "execution_count": 97,
   "id": "50bc90ae-8dba-4bde-bca0-c6deddc819b5",
   "metadata": {},
   "outputs": [
    {
     "name": "stdout",
     "output_type": "stream",
     "text": [
      "0\n"
     ]
    }
   ],
   "source": [
    "print(t)"
   ]
  },
  {
   "cell_type": "code",
   "execution_count": 94,
   "id": "af6c0afe-d5b6-432f-a0f8-544a1c007abf",
   "metadata": {},
   "outputs": [
    {
     "data": {
      "text/html": [
       "<div>\n",
       "<style scoped>\n",
       "    .dataframe tbody tr th:only-of-type {\n",
       "        vertical-align: middle;\n",
       "    }\n",
       "\n",
       "    .dataframe tbody tr th {\n",
       "        vertical-align: top;\n",
       "    }\n",
       "\n",
       "    .dataframe thead th {\n",
       "        text-align: right;\n",
       "    }\n",
       "</style>\n",
       "<table border=\"1\" class=\"dataframe\">\n",
       "  <thead>\n",
       "    <tr style=\"text-align: right;\">\n",
       "      <th></th>\n",
       "      <th>multi_file</th>\n",
       "      <th>pos</th>\n",
       "      <th>box_score</th>\n",
       "      <th>bbox</th>\n",
       "      <th>PatientIDE</th>\n",
       "      <th>annotator_name</th>\n",
       "      <th>d1</th>\n",
       "      <th>d2</th>\n",
       "      <th>d3</th>\n",
       "      <th>d4</th>\n",
       "      <th>d5</th>\n",
       "      <th>d6</th>\n",
       "      <th>disease</th>\n",
       "      <th>quality</th>\n",
       "      <th>single_file</th>\n",
       "    </tr>\n",
       "  </thead>\n",
       "  <tbody>\n",
       "    <tr>\n",
       "      <th>88</th>\n",
       "      <td>0063ddfd_20210226_08.png</td>\n",
       "      <td>29</td>\n",
       "      <td>0.926409</td>\n",
       "      <td>[734.3099975585938, 38.959999084472656, 1160.3...</td>\n",
       "      <td>0063ddfd</td>\n",
       "      <td>Jennifer</td>\n",
       "      <td>4</td>\n",
       "      <td>2</td>\n",
       "      <td>3</td>\n",
       "      <td>5</td>\n",
       "      <td>4</td>\n",
       "      <td>5</td>\n",
       "      <td>unstable</td>\n",
       "      <td>yes</td>\n",
       "      <td>box_0063ddfd_20210226_08_02.png</td>\n",
       "    </tr>\n",
       "    <tr>\n",
       "      <th>89</th>\n",
       "      <td>0063ddfd_20210226_08.png</td>\n",
       "      <td>31</td>\n",
       "      <td>0.934511</td>\n",
       "      <td>[0.0, 0.0, 516.16, 668.04]</td>\n",
       "      <td>0063ddfd</td>\n",
       "      <td>Michael</td>\n",
       "      <td>4</td>\n",
       "      <td>3</td>\n",
       "      <td>4</td>\n",
       "      <td>5</td>\n",
       "      <td>4</td>\n",
       "      <td>5</td>\n",
       "      <td>unstable</td>\n",
       "      <td>yes</td>\n",
       "      <td>box_0063ddfd_20210226_08_01.png</td>\n",
       "    </tr>\n",
       "  </tbody>\n",
       "</table>\n",
       "</div>"
      ],
      "text/plain": [
       "                  multi_file  pos  box_score  \\\n",
       "88  0063ddfd_20210226_08.png   29   0.926409   \n",
       "89  0063ddfd_20210226_08.png   31   0.934511   \n",
       "\n",
       "                                                 bbox PatientIDE  \\\n",
       "88  [734.3099975585938, 38.959999084472656, 1160.3...   0063ddfd   \n",
       "89                         [0.0, 0.0, 516.16, 668.04]   0063ddfd   \n",
       "\n",
       "   annotator_name  d1  d2  d3  d4  d5  d6   disease quality  \\\n",
       "88       Jennifer   4   2   3   5   4   5  unstable     yes   \n",
       "89        Michael   4   3   4   5   4   5  unstable     yes   \n",
       "\n",
       "                        single_file  \n",
       "88  box_0063ddfd_20210226_08_02.png  \n",
       "89  box_0063ddfd_20210226_08_01.png  "
      ]
     },
     "metadata": {},
     "output_type": "display_data"
    }
   ],
   "source": [
    "display(df_file)"
   ]
  },
  {
   "cell_type": "code",
   "execution_count": 93,
   "id": "3c172eec-00f6-4ecf-af7e-eca69c8bb412",
   "metadata": {},
   "outputs": [
    {
     "name": "stdout",
     "output_type": "stream",
     "text": [
      "[29, 31]\n"
     ]
    }
   ],
   "source": [
    "print(true_labels)"
   ]
  },
  {
   "cell_type": "code",
   "execution_count": 90,
   "id": "d562cdb8-7b34-4374-9ca3-0afff5639a64",
   "metadata": {},
   "outputs": [
    {
     "name": "stdout",
     "output_type": "stream",
     "text": [
      "[29, 28, 30, 31, 32]\n",
      "[[700, 32, 448, 573], [1092, 48, 105, 556], [177, 1, 740, 567], [0, 0, 529, 432], [0, 0, 529, 432]]\n",
      "[0.0695, 0.0683, 0.0506, 0.0225, 0.0203]\n"
     ]
    }
   ],
   "source": [
    "print(pred_labels)\n",
    "print(pred_bboxes)\n",
    "print(pred_scores)"
   ]
  },
  {
   "cell_type": "code",
   "execution_count": 99,
   "id": "cdc52a06-8d70-460b-a76a-6ceecc4f24a6",
   "metadata": {},
   "outputs": [
    {
     "name": "stdout",
     "output_type": "stream",
     "text": [
      "[734, 38, 466, 816]\n",
      "29\n",
      "[700, 32, 448, 573]\n"
     ]
    },
    {
     "data": {
      "image/png": "[encoded data removed]",
      "text/plain": [
       "<Figure size 400x400 with 1 Axes>"
      ]
     },
     "metadata": {},
     "output_type": "display_data"
    },
    {
     "name": "stdout",
     "output_type": "stream",
     "text": [
      "0.5836030840873718\n"
     ]
    }
   ],
   "source": [
    "# Let's pick one ground truth and one predicted position\n",
    "true_pos = 29\n",
    "true_bbx = list(bbox_list[pos_list.index(true_pos)])\n",
    "true_bbx = clipxywh(true_bbx, xlim=x_lim, ylim=y_lim, decimals=0)\n",
    "print(true_bbx)\n",
    "\n",
    "pred_pos_idx = output_pos_list.index(true_pos)\n",
    "pred_pos = output_pos_list[pred_pos_idx]\n",
    "print(pred_pos)\n",
    "pred_bbx = output_bbox_list[pred_pos_idx]\n",
    "print(pred_bbx)\n",
    "\n",
    "# Plot this situation\n",
    "fig, ax = plt.subplots(figsize=figsize)\n",
    "ax = plot_boxes(image=im, box_list=[true_bbx], label_list=[true_pos], ax=ax, color='w')\n",
    "ax = plot_boxes(image=im, box_list=[pred_bbx], label_list=[pred_pos], ax=ax, color='r', offset_xy=(0, 20))\n",
    "plt.show()\n",
    "\n",
    "# Calculate the IoU for the predicted bounding box and the ground truth\n",
    "iou = DetectionMetrics.compute_iou(bbox_1=true_bbx, bbox_2=pred_bbx, bbox_format='xywh', method='pt')\n",
    "print(iou)"
   ]
  },
  {
   "cell_type": "markdown",
   "id": "de5ceea0-d151-428a-b807-cc2d5d836b21",
   "metadata": {},
   "source": [
    "Basic Terms:\n",
    "\n",
    "When the model correctly detects an object: TP\n",
    "\n",
    "When an object not actually in the image is found: FP\n",
    "\n",
    "When an object in the ground truth is not detected: FN"
   ]
  },
  {
   "cell_type": "code",
   "execution_count": null,
   "id": "9cad5fad-9de9-455f-8342-2dbff40c2b86",
   "metadata": {},
   "outputs": [],
   "source": []
  }
 ],
 "metadata": {
  "kernelspec": {
   "display_name": "Python 3 (ipykernel)",
   "language": "python",
   "name": "python3"
  },
  "language_info": {
   "codemirror_mode": {
    "name": "ipython",
    "version": 3
   },
   "file_extension": ".py",
   "mimetype": "text/x-python",
   "name": "python",
   "nbconvert_exporter": "python",
   "pygments_lexer": "ipython3",
   "version": "3.12.3"
  }
 },
 "nbformat": 4,
 "nbformat_minor": 5
}
